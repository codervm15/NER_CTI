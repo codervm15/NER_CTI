{
 "cells": [
  {
   "cell_type": "code",
   "execution_count": 2,
   "id": "7a19057d-0976-4343-856b-055b3f54fd35",
   "metadata": {},
   "outputs": [
    {
     "name": "stderr",
     "output_type": "stream",
     "text": [
      "/home/vikrant/anaconda3/lib/python3.11/site-packages/huggingface_hub/file_download.py:1132: FutureWarning: `resume_download` is deprecated and will be removed in version 1.0.0. Downloads always resume when possible. If you want to force a new download, use `force_download=True`.\n",
      "  warnings.warn(\n",
      "Some weights of XLNetForTokenClassification were not initialized from the model checkpoint at xlnet-large-cased and are newly initialized: ['classifier.bias', 'classifier.weight']\n",
      "You should probably TRAIN this model on a down-stream task to be able to use it for predictions and inference.\n"
     ]
    },
    {
     "name": "stdout",
     "output_type": "stream",
     "text": [
      "Current CUDA Device: [0] NVIDIA RTX A5000\n",
      "Number of CUDA Devices: 1\n"
     ]
    },
    {
     "data": {
      "application/vnd.jupyter.widget-view+json": {
       "model_id": "ff6ed5e1fd7440238ca79cb62dbf37b2",
       "version_major": 2,
       "version_minor": 0
      },
      "text/plain": [
       "Map:   0%|          | 0/5260 [00:00<?, ? examples/s]"
      ]
     },
     "metadata": {},
     "output_type": "display_data"
    },
    {
     "data": {
      "application/vnd.jupyter.widget-view+json": {
       "model_id": "25c836a31a5c48bda25df170b0fc4649",
       "version_major": 2,
       "version_minor": 0
      },
      "text/plain": [
       "Map:   0%|          | 0/661 [00:00<?, ? examples/s]"
      ]
     },
     "metadata": {},
     "output_type": "display_data"
    },
    {
     "data": {
      "application/vnd.jupyter.widget-view+json": {
       "model_id": "bb097be50826430abe6d1f69f6640d89",
       "version_major": 2,
       "version_minor": 0
      },
      "text/plain": [
       "Map:   0%|          | 0/663 [00:00<?, ? examples/s]"
      ]
     },
     "metadata": {},
     "output_type": "display_data"
    },
    {
     "data": {
      "text/html": [
       "\n",
       "    <div>\n",
       "      \n",
       "      <progress value='1316' max='1316' style='width:300px; height:20px; vertical-align: middle;'></progress>\n",
       "      [1316/1316 10:14, Epoch 4/4]\n",
       "    </div>\n",
       "    <table border=\"1\" class=\"dataframe\">\n",
       "  <thead>\n",
       " <tr style=\"text-align: left;\">\n",
       "      <th>Epoch</th>\n",
       "      <th>Training Loss</th>\n",
       "      <th>Validation Loss</th>\n",
       "      <th>Precision</th>\n",
       "      <th>Recall</th>\n",
       "      <th>F1</th>\n",
       "      <th>Accuracy</th>\n",
       "    </tr>\n",
       "  </thead>\n",
       "  <tbody>\n",
       "    <tr>\n",
       "      <td>1</td>\n",
       "      <td>No log</td>\n",
       "      <td>0.253659</td>\n",
       "      <td>0.679245</td>\n",
       "      <td>0.768574</td>\n",
       "      <td>0.721154</td>\n",
       "      <td>0.913307</td>\n",
       "    </tr>\n",
       "    <tr>\n",
       "      <td>2</td>\n",
       "      <td>0.381300</td>\n",
       "      <td>0.165431</td>\n",
       "      <td>0.784306</td>\n",
       "      <td>0.849274</td>\n",
       "      <td>0.815498</td>\n",
       "      <td>0.947803</td>\n",
       "    </tr>\n",
       "    <tr>\n",
       "      <td>3</td>\n",
       "      <td>0.381300</td>\n",
       "      <td>0.145845</td>\n",
       "      <td>0.850914</td>\n",
       "      <td>0.874893</td>\n",
       "      <td>0.862737</td>\n",
       "      <td>0.958887</td>\n",
       "    </tr>\n",
       "    <tr>\n",
       "      <td>4</td>\n",
       "      <td>0.133200</td>\n",
       "      <td>0.162635</td>\n",
       "      <td>0.868041</td>\n",
       "      <td>0.898804</td>\n",
       "      <td>0.883155</td>\n",
       "      <td>0.964655</td>\n",
       "    </tr>\n",
       "  </tbody>\n",
       "</table><p>"
      ],
      "text/plain": [
       "<IPython.core.display.HTML object>"
      ]
     },
     "metadata": {},
     "output_type": "display_data"
    },
    {
     "data": {
      "text/plain": [
       "TrainOutput(global_step=1316, training_loss=0.20702069508630816, metrics={'train_runtime': 615.4165, 'train_samples_per_second': 34.188, 'train_steps_per_second': 2.138, 'total_flos': 4958771441400000.0, 'train_loss': 0.20702069508630816, 'epoch': 4.0})"
      ]
     },
     "execution_count": 2,
     "metadata": {},
     "output_type": "execute_result"
    }
   ],
   "source": [
    "import seqeval\n",
    "\n",
    "import evaluate\n",
    "\n",
    "\n",
    "metric = evaluate.load(\"seqeval\")\n",
    "\n",
    "\n",
    "import json\n",
    "import sys\n",
    "import numpy as np\n",
    "import evaluate\n",
    "import torch\n",
    "from datasets import load_dataset, Dataset, DatasetDict\n",
    "from transformers import AutoTokenizer\n",
    "from transformers import DataCollatorForTokenClassification\n",
    "from transformers import TrainingArguments, Trainer\n",
    "from transformers import AutoModelForTokenClassification\n",
    "\n",
    "def load_dnrti():\n",
    "    ret = {}\n",
    "    for split_name in ['train_json', 'dev_json', 'test_json']:\n",
    "        data = []\n",
    "        with open(f'/home/vikrant/Desktop/NER/DNRTI/{split_name}.jsonl', 'r') as reader:\n",
    "            for line in reader:\n",
    "                data.append(json.loads(line))\n",
    "        ret[split_name] = Dataset.from_list(data)\n",
    "    return DatasetDict(ret)\n",
    "\n",
    "ds = load_dnrti()\n",
    "\n",
    "label2id = {\n",
    "    'I-Org': 0,\n",
    "    'I-SecTeam': 1,\n",
    "    'O': 2,\n",
    "    'B-Exp': 3,\n",
    "    'I-Purp': 4,\n",
    "    'B-Purp': 5,\n",
    "    'I-Features': 6,\n",
    "    'I-Time': 7,\n",
    "    'B-SecTeam': 8,\n",
    "    'B-SamFile': 9,\n",
    "    'B-Area': 10,\n",
    "    'I-Area': 11,\n",
    "    'B-HackOrg': 12,\n",
    "    'B-Way': 13,\n",
    "    'B-OffAct': 14,\n",
    "    'B-Org': 15,\n",
    "    'I-Exp': 16,\n",
    "    'I-OffAct': 17,\n",
    "    'B-Features': 18,\n",
    "    'B-Time': 19,\n",
    "    'I-SamFile': 20,\n",
    "    'I-Way': 21,\n",
    "    'I-HackOrg': 22\n",
    "}\n",
    "\n",
    "\n",
    "checkpoint = \"xlnet-large-cased\"\n",
    "\n",
    "tokenizer = AutoTokenizer.from_pretrained(checkpoint, add_prefix_space=True)\n",
    "\n",
    "\n",
    "epochs = 4\n",
    "batch_size = 16\n",
    "learning_rate = 1e-4\n",
    "max_length = 120\n",
    "\n",
    "\n",
    "id2label = {v: k for k, v in label2id.items()}\n",
    "label_list = list(label2id.keys()) # ds[\"train\"].features[f\"ner_tags\"].feature.names\n",
    "\n",
    "\n",
    "model = AutoModelForTokenClassification.from_pretrained(\n",
    "    checkpoint, num_labels=len(label2id), id2label=id2label, label2id=label2id,\n",
    ")\n",
    "if torch.cuda.is_available():\n",
    "  device = \"cuda\"\n",
    "else:\n",
    "  device = \"cpu\"\n",
    "\n",
    "model = model.to(device)\n",
    "\n",
    "print(\"Current CUDA Device: [{}] {}\".format(torch.cuda.current_device(), torch.cuda.get_device_name(torch.cuda.current_device())))\n",
    "print(\"Number of CUDA Devices: {}\".format(torch.cuda.device_count()))\n",
    "\n",
    "def tokenize_and_align_labels(examples):\n",
    "    tokenized_inputs = tokenizer(examples[\"tokens\"], is_split_into_words=True, padding='longest', max_length=max_length, truncation=True)\n",
    "\n",
    "    labels = []\n",
    "    for i, label in enumerate(examples[f\"ner_tags\"]):\n",
    "        word_ids = tokenized_inputs.word_ids(batch_index=i)  # Map tokens to their respective word.\n",
    "        previous_word_idx = None\n",
    "        label_ids = []\n",
    "        for word_idx in word_ids:  # Set the special tokens to -100.\n",
    "            if word_idx is None:\n",
    "                label_ids.append(-100)\n",
    "            elif word_idx != previous_word_idx:  # Only label the first token of a given word.\n",
    "                label_ids.append(label[word_idx])\n",
    "            else:\n",
    "                label_ids.append(-100)\n",
    "            previous_word_idx = word_idx\n",
    "        labels.append(label_ids)\n",
    "\n",
    "    tokenized_inputs[\"labels\"] = labels\n",
    "    return tokenized_inputs\n",
    "\n",
    "\n",
    "tokenized_ds = ds.map(tokenize_and_align_labels, batched=True)\n",
    "data_collator = DataCollatorForTokenClassification(tokenizer=tokenizer)\n",
    "\n",
    "def compute_metrics(p):\n",
    "    predictions, labels = p\n",
    "    predictions = np.argmax(predictions, axis=2)\n",
    "\n",
    "    true_predictions = [\n",
    "        [label_list[p] for (p, l) in zip(prediction, label) if l != -100]\n",
    "        for prediction, label in zip(predictions, labels)\n",
    "    ]\n",
    "    true_labels = [\n",
    "        [label_list[l] for (p, l) in zip(prediction, label) if l != -100]\n",
    "        for prediction, label in zip(predictions, labels)\n",
    "    ]\n",
    "\n",
    "    all_metrics = metric.compute(predictions=true_predictions, references=true_labels,)\n",
    "    \n",
    "    return {\n",
    "        \"precision\": all_metrics[\"overall_precision\"],\n",
    "        \"recall\": all_metrics[\"overall_recall\"],\n",
    "        \"f1\": all_metrics[\"overall_f1\"],\n",
    "        \"accuracy\": all_metrics[\"overall_accuracy\"],\n",
    "    }\n",
    "        \n",
    "    \n",
    "\n",
    "training_args = TrainingArguments(\n",
    "    output_dir=\"my_awesome_ds_model\",\n",
    "    learning_rate=learning_rate,\n",
    "    per_device_train_batch_size=batch_size,\n",
    "    per_device_eval_batch_size=batch_size,\n",
    "    num_train_epochs=epochs,\n",
    "    weight_decay=0.01,\n",
    "    evaluation_strategy=\"epoch\",\n",
    "    save_strategy=\"epoch\",\n",
    "    load_best_model_at_end=True,\n",
    "    push_to_hub=False,\n",
    ")\n",
    "\n",
    "trainer = Trainer(\n",
    "    model=model,\n",
    "    args=training_args,\n",
    "    train_dataset=tokenized_ds[\"train_json\"],\n",
    "    eval_dataset=tokenized_ds[\"test_json\"],\n",
    "    tokenizer=tokenizer,\n",
    "    data_collator=data_collator,\n",
    "    compute_metrics=compute_metrics,\n",
    ")\n",
    "\n",
    "trainer.train()\n",
    "\n",
    "\n",
    "\n"
   ]
  },
  {
   "cell_type": "code",
   "execution_count": 12,
   "id": "819ef389-663d-4ded-af5e-ac6e0a6525d0",
   "metadata": {},
   "outputs": [
    {
     "data": {
      "text/html": [],
      "text/plain": [
       "<IPython.core.display.HTML object>"
      ]
     },
     "metadata": {},
     "output_type": "display_data"
    }
   ],
   "source": [
    "predictions = trainer.predict(tokenized_ds[\"test_json\"])"
   ]
  },
  {
   "cell_type": "code",
   "execution_count": 13,
   "id": "ccd0ad94-4c4d-4204-a82a-b5632fd611c3",
   "metadata": {},
   "outputs": [
    {
     "name": "stdout",
     "output_type": "stream",
     "text": [
      "{'precision': 0.8509136212624585, 'recall': 0.8748932536293766, 'f1': 0.8627368421052631, 'accuracy': 0.9588870666742069}\n"
     ]
    }
   ],
   "source": [
    "#METRICS VALUES ON TETS SET\n",
    "\n",
    "print(compute_metrics(predictions[:][0:2]))"
   ]
  },
  {
   "cell_type": "code",
   "execution_count": null,
   "id": "62dec7c8-d3f9-4b73-a17a-e78f6094d2ac",
   "metadata": {},
   "outputs": [],
   "source": []
  }
 ],
 "metadata": {
  "kernelspec": {
   "display_name": "Python 3 (ipykernel)",
   "language": "python",
   "name": "python3"
  },
  "language_info": {
   "codemirror_mode": {
    "name": "ipython",
    "version": 3
   },
   "file_extension": ".py",
   "mimetype": "text/x-python",
   "name": "python",
   "nbconvert_exporter": "python",
   "pygments_lexer": "ipython3",
   "version": "3.11.7"
  }
 },
 "nbformat": 4,
 "nbformat_minor": 5
}
