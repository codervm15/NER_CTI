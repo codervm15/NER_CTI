{
 "cells": [
  {
   "cell_type": "code",
   "execution_count": 1,
   "id": "bc76c614-6cb1-4cbc-96f4-ce9564c9e321",
   "metadata": {},
   "outputs": [
    {
     "name": "stderr",
     "output_type": "stream",
     "text": [
      "/home/vikrant/anaconda3/lib/python3.11/site-packages/huggingface_hub/file_download.py:1132: FutureWarning: `resume_download` is deprecated and will be removed in version 1.0.0. Downloads always resume when possible. If you want to force a new download, use `force_download=True`.\n",
      "  warnings.warn(\n",
      "Some weights of the model checkpoint at dslim/bert-base-NER were not used when initializing BertForTokenClassification: ['bert.pooler.dense.bias', 'bert.pooler.dense.weight']\n",
      "- This IS expected if you are initializing BertForTokenClassification from the checkpoint of a model trained on another task or with another architecture (e.g. initializing a BertForSequenceClassification model from a BertForPreTraining model).\n",
      "- This IS NOT expected if you are initializing BertForTokenClassification from the checkpoint of a model that you expect to be exactly identical (initializing a BertForSequenceClassification model from a BertForSequenceClassification model).\n",
      "Some weights of BertForTokenClassification were not initialized from the model checkpoint at dslim/bert-base-NER and are newly initialized because the shapes did not match:\n",
      "- classifier.bias: found shape torch.Size([9]) in the checkpoint and torch.Size([23]) in the model instantiated\n",
      "- classifier.weight: found shape torch.Size([9, 768]) in the checkpoint and torch.Size([23, 768]) in the model instantiated\n",
      "You should probably TRAIN this model on a down-stream task to be able to use it for predictions and inference.\n"
     ]
    },
    {
     "name": "stdout",
     "output_type": "stream",
     "text": [
      "Current CUDA Device: [0] NVIDIA RTX A5000\n",
      "Number of CUDA Devices: 1\n"
     ]
    },
    {
     "data": {
      "application/vnd.jupyter.widget-view+json": {
       "model_id": "33c12426d6a84842905f2727d7e3c0c6",
       "version_major": 2,
       "version_minor": 0
      },
      "text/plain": [
       "Map:   0%|          | 0/5260 [00:00<?, ? examples/s]"
      ]
     },
     "metadata": {},
     "output_type": "display_data"
    },
    {
     "data": {
      "application/vnd.jupyter.widget-view+json": {
       "model_id": "f97a075751a34196beb538249d16c904",
       "version_major": 2,
       "version_minor": 0
      },
      "text/plain": [
       "Map:   0%|          | 0/661 [00:00<?, ? examples/s]"
      ]
     },
     "metadata": {},
     "output_type": "display_data"
    },
    {
     "data": {
      "application/vnd.jupyter.widget-view+json": {
       "model_id": "440bfd9b0d234794bd7672b92723481c",
       "version_major": 2,
       "version_minor": 0
      },
      "text/plain": [
       "Map:   0%|          | 0/663 [00:00<?, ? examples/s]"
      ]
     },
     "metadata": {},
     "output_type": "display_data"
    },
    {
     "data": {
      "text/html": [
       "\n",
       "    <div>\n",
       "      \n",
       "      <progress value='1316' max='1316' style='width:300px; height:20px; vertical-align: middle;'></progress>\n",
       "      [1316/1316 02:44, Epoch 4/4]\n",
       "    </div>\n",
       "    <table border=\"1\" class=\"dataframe\">\n",
       "  <thead>\n",
       " <tr style=\"text-align: left;\">\n",
       "      <th>Epoch</th>\n",
       "      <th>Training Loss</th>\n",
       "      <th>Validation Loss</th>\n",
       "      <th>Precision</th>\n",
       "      <th>Recall</th>\n",
       "      <th>F1</th>\n",
       "      <th>Accuracy</th>\n",
       "    </tr>\n",
       "  </thead>\n",
       "  <tbody>\n",
       "    <tr>\n",
       "      <td>1</td>\n",
       "      <td>No log</td>\n",
       "      <td>0.195393</td>\n",
       "      <td>0.763802</td>\n",
       "      <td>0.785653</td>\n",
       "      <td>0.774574</td>\n",
       "      <td>0.934796</td>\n",
       "    </tr>\n",
       "    <tr>\n",
       "      <td>2</td>\n",
       "      <td>0.300800</td>\n",
       "      <td>0.147478</td>\n",
       "      <td>0.812754</td>\n",
       "      <td>0.854398</td>\n",
       "      <td>0.833056</td>\n",
       "      <td>0.954589</td>\n",
       "    </tr>\n",
       "    <tr>\n",
       "      <td>3</td>\n",
       "      <td>0.300800</td>\n",
       "      <td>0.140066</td>\n",
       "      <td>0.862200</td>\n",
       "      <td>0.873612</td>\n",
       "      <td>0.867869</td>\n",
       "      <td>0.961941</td>\n",
       "    </tr>\n",
       "    <tr>\n",
       "      <td>4</td>\n",
       "      <td>0.101100</td>\n",
       "      <td>0.146025</td>\n",
       "      <td>0.859983</td>\n",
       "      <td>0.886422</td>\n",
       "      <td>0.873003</td>\n",
       "      <td>0.964542</td>\n",
       "    </tr>\n",
       "  </tbody>\n",
       "</table><p>"
      ],
      "text/plain": [
       "<IPython.core.display.HTML object>"
      ]
     },
     "metadata": {},
     "output_type": "display_data"
    },
    {
     "data": {
      "text/plain": [
       "TrainOutput(global_step=1316, training_loss=0.16225219207694103, metrics={'train_runtime': 164.4459, 'train_samples_per_second': 127.945, 'train_steps_per_second': 8.003, 'total_flos': 1254013369959840.0, 'train_loss': 0.16225219207694103, 'epoch': 4.0})"
      ]
     },
     "execution_count": 1,
     "metadata": {},
     "output_type": "execute_result"
    }
   ],
   "source": [
    "import seqeval\n",
    "\n",
    "import evaluate\n",
    "\n",
    "metric = evaluate.load(\"seqeval\")\n",
    "\n",
    "import json\n",
    "import sys\n",
    "import numpy as np\n",
    "import evaluate\n",
    "import torch\n",
    "from datasets import load_dataset, Dataset, DatasetDict\n",
    "from transformers import AutoTokenizer\n",
    "from transformers import DataCollatorForTokenClassification\n",
    "from transformers import TrainingArguments, Trainer\n",
    "from transformers import AutoModelForTokenClassification\n",
    "\n",
    "def load_dnrti():\n",
    "    ret = {}\n",
    "    for split_name in ['train_json', 'dev_json', 'test_json']:\n",
    "        data = []\n",
    "        with open(f'/home/vikrant/Desktop/NER/DNRTI/{split_name}.jsonl', 'r') as reader:\n",
    "            for line in reader:\n",
    "                data.append(json.loads(line))\n",
    "        ret[split_name] = Dataset.from_list(data)\n",
    "    return DatasetDict(ret)\n",
    "\n",
    "ds = load_dnrti()\n",
    "\n",
    "label2id = {\n",
    "    'I-Org': 0,\n",
    "    'I-SecTeam': 1,\n",
    "    'O': 2,\n",
    "    'B-Exp': 3,\n",
    "    'I-Purp': 4,\n",
    "    'B-Purp': 5,\n",
    "    'I-Features': 6,\n",
    "    'I-Time': 7,\n",
    "    'B-SecTeam': 8,\n",
    "    'B-SamFile': 9,\n",
    "    'B-Area': 10,\n",
    "    'I-Area': 11,\n",
    "    'B-HackOrg': 12,\n",
    "    'B-Way': 13,\n",
    "    'B-OffAct': 14,\n",
    "    'B-Org': 15,\n",
    "    'I-Exp': 16,\n",
    "    'I-OffAct': 17,\n",
    "    'B-Features': 18,\n",
    "    'B-Time': 19,\n",
    "    'I-SamFile': 20,\n",
    "    'I-Way': 21,\n",
    "    'I-HackOrg': 22\n",
    "}\n",
    "\n",
    "\n",
    "checkpoint = \"dslim/bert-base-NER\"\n",
    "\n",
    "tokenizer = AutoTokenizer.from_pretrained(checkpoint, add_prefix_space=True)\n",
    "\n",
    "\n",
    "epochs = 4\n",
    "batch_size = 16\n",
    "learning_rate = 1e-4\n",
    "max_length = 120\n",
    "\n",
    "\n",
    "id2label = {v: k for k, v in label2id.items()}\n",
    "label_list = list(label2id.keys()) # ds[\"train\"].features[f\"ner_tags\"].feature.names\n",
    "\n",
    "\n",
    "model = AutoModelForTokenClassification.from_pretrained(\n",
    "    checkpoint, num_labels=len(label2id), id2label=id2label, label2id=label2id, ignore_mismatched_sizes=True,\n",
    ")\n",
    "if torch.cuda.is_available():\n",
    "  device = \"cuda\"\n",
    "else:\n",
    "  device = \"cpu\"\n",
    "\n",
    "model = model.to(device)\n",
    "\n",
    "print(\"Current CUDA Device: [{}] {}\".format(torch.cuda.current_device(), torch.cuda.get_device_name(torch.cuda.current_device())))\n",
    "print(\"Number of CUDA Devices: {}\".format(torch.cuda.device_count()))\n",
    "\n",
    "def tokenize_and_align_labels(examples):\n",
    "    tokenized_inputs = tokenizer(examples[\"tokens\"], is_split_into_words=True, padding='longest', max_length=max_length, truncation=True)\n",
    "\n",
    "    labels = []\n",
    "    for i, label in enumerate(examples[f\"ner_tags\"]):\n",
    "        word_ids = tokenized_inputs.word_ids(batch_index=i)  # Map tokens to their respective word.\n",
    "        previous_word_idx = None\n",
    "        label_ids = []\n",
    "        for word_idx in word_ids:  # Set the special tokens to -100.\n",
    "            if word_idx is None:\n",
    "                label_ids.append(-100)\n",
    "            elif word_idx != previous_word_idx:  # Only label the first token of a given word.\n",
    "                label_ids.append(label[word_idx])\n",
    "            else:\n",
    "                label_ids.append(-100)\n",
    "            previous_word_idx = word_idx\n",
    "        labels.append(label_ids)\n",
    "\n",
    "    tokenized_inputs[\"labels\"] = labels\n",
    "    return tokenized_inputs\n",
    "\n",
    "\n",
    "tokenized_ds = ds.map(tokenize_and_align_labels, batched=True)\n",
    "data_collator = DataCollatorForTokenClassification(tokenizer=tokenizer)\n",
    "\n",
    "def compute_metrics(p):\n",
    "    predictions, labels = p\n",
    "    predictions = np.argmax(predictions, axis=2)\n",
    "\n",
    "    true_predictions = [\n",
    "        [label_list[p] for (p, l) in zip(prediction, label) if l != -100]\n",
    "        for prediction, label in zip(predictions, labels)\n",
    "    ]\n",
    "    true_labels = [\n",
    "        [label_list[l] for (p, l) in zip(prediction, label) if l != -100]\n",
    "        for prediction, label in zip(predictions, labels)\n",
    "    ]\n",
    "\n",
    "    all_metrics = metric.compute(predictions=true_predictions, references=true_labels)\n",
    "    \n",
    "    return {\n",
    "        \"precision\": all_metrics[\"overall_precision\"],\n",
    "        \"recall\": all_metrics[\"overall_recall\"],\n",
    "        \"f1\": all_metrics[\"overall_f1\"],\n",
    "        \"accuracy\": all_metrics[\"overall_accuracy\"],\n",
    "    }\n",
    "\n",
    "training_args = TrainingArguments(\n",
    "    output_dir=\"my_awesome_ds_model\",\n",
    "    learning_rate=learning_rate,\n",
    "    per_device_train_batch_size=batch_size,\n",
    "    per_device_eval_batch_size=batch_size,\n",
    "    num_train_epochs=epochs,\n",
    "    weight_decay=0.01,\n",
    "    evaluation_strategy=\"epoch\",\n",
    "    save_strategy=\"epoch\",\n",
    "    load_best_model_at_end=True,\n",
    "    push_to_hub=False,\n",
    ")\n",
    "\n",
    "trainer = Trainer(\n",
    "    model=model,\n",
    "    args=training_args,\n",
    "    train_dataset=tokenized_ds[\"train_json\"],\n",
    "    eval_dataset=tokenized_ds[\"test_json\"],\n",
    "    tokenizer=tokenizer,\n",
    "    data_collator=data_collator,\n",
    "    compute_metrics=compute_metrics,\n",
    ")\n",
    "\n",
    "trainer.train()\n",
    "\n",
    "\n",
    "\n"
   ]
  },
  {
   "cell_type": "code",
   "execution_count": 12,
   "id": "1ef6cd01-6632-4183-8670-0dc5ff5a10eb",
   "metadata": {},
   "outputs": [
    {
     "data": {
      "text/html": [],
      "text/plain": [
       "<IPython.core.display.HTML object>"
      ]
     },
     "metadata": {},
     "output_type": "display_data"
    },
    {
     "data": {
      "text/plain": [
       "PredictionOutput(predictions=array([[[-8.6082029e-01, -1.5843542e+00,  1.0574989e+01, ...,\n",
       "         -1.0110166e+00, -5.3579456e-01, -1.1848768e+00],\n",
       "        [-1.6466786e+00,  3.1291062e-01, -9.5396407e-02, ...,\n",
       "         -1.8256509e-01, -9.3834066e-01, -3.3222732e-01],\n",
       "        [ 3.6779183e-01,  3.0631654e+00,  2.9438074e+00, ...,\n",
       "         -2.9395938e-01, -1.2250012e+00,  4.5430553e-01],\n",
       "        ...,\n",
       "        [ 1.2712060e-01, -8.1365019e-02,  9.8557014e+00, ...,\n",
       "         -1.2822399e-01, -9.2375940e-01, -3.7288493e-01],\n",
       "        [-9.5845944e-01, -2.4787630e-01,  6.0922318e+00, ...,\n",
       "         -1.2010353e+00, -1.9077986e+00,  1.3461667e-01],\n",
       "        [-9.2712152e-01, -2.3863177e-01,  6.0802412e+00, ...,\n",
       "         -1.2513655e+00, -1.9135616e+00,  1.9581741e-01]],\n",
       "\n",
       "       [[-1.0206460e+00, -1.8249142e+00,  9.7541237e+00, ...,\n",
       "         -9.9438852e-01, -5.0042647e-01, -1.1152949e+00],\n",
       "        [-1.0920552e+00, -1.3906964e+00,  9.4506969e+00, ...,\n",
       "         -1.2908159e+00, -1.0836993e+00, -1.2342025e+00],\n",
       "        [-1.0935458e+00, -1.3340926e+00,  1.1544003e+01, ...,\n",
       "         -9.7940874e-01, -4.5143825e-01, -1.2468827e+00],\n",
       "        ...,\n",
       "        [-1.1819025e+00,  1.3826163e+00,  1.9605078e-01, ...,\n",
       "         -5.9447316e-03, -7.2125655e-01, -4.1716173e-01],\n",
       "        [ 2.1084130e-01,  5.6565919e+00,  2.4353056e+00, ...,\n",
       "         -2.1277577e-01, -8.1379902e-01,  2.8313513e+00],\n",
       "        [-8.1366301e-01,  6.2129248e-02,  9.1541395e+00, ...,\n",
       "         -2.6204610e-01, -9.0192735e-01,  4.2447907e-01]],\n",
       "\n",
       "       [[-9.0454125e-01, -1.7035084e+00,  1.0244982e+01, ...,\n",
       "         -9.5976752e-01, -8.2043046e-01, -1.0789506e+00],\n",
       "        [-1.6056036e+00,  7.1461892e-01,  2.2585320e+00, ...,\n",
       "         -4.3931264e-01, -8.7652040e-01, -5.5515647e-01],\n",
       "        [ 5.8140075e-01,  7.1756248e+00,  4.5133429e+00, ...,\n",
       "         -4.8583251e-01, -1.3685162e+00,  4.2213210e-01],\n",
       "        ...,\n",
       "        [-1.1264231e+00, -1.3353622e+00,  9.2511683e+00, ...,\n",
       "         -1.1143341e+00, -1.2937927e+00, -9.2864811e-01],\n",
       "        [-1.0669532e+00, -1.2796233e+00,  9.2078781e+00, ...,\n",
       "         -9.2130107e-01, -8.6245137e-01, -1.0316963e+00],\n",
       "        [-5.9376615e-01, -1.0728571e+00,  7.4871945e+00, ...,\n",
       "         -5.5746102e-01, -4.9675784e-01, -1.0869131e+00]],\n",
       "\n",
       "       ...,\n",
       "\n",
       "       [[-1.0045657e+00, -1.9202749e+00,  9.9487076e+00, ...,\n",
       "         -1.3462124e+00, -7.5120682e-01, -1.0864731e+00],\n",
       "        [-1.3338757e+00, -1.5693066e+00,  1.1078748e+01, ...,\n",
       "         -1.2787865e+00, -6.0851270e-01, -1.3321506e+00],\n",
       "        [-1.4061835e+00, -1.6059462e+00,  1.0838262e+01, ...,\n",
       "         -1.4418099e+00, -4.0147093e-01, -1.3538667e+00],\n",
       "        ...,\n",
       "        [-1.3470025e+00, -1.8478299e+00,  7.2487731e+00, ...,\n",
       "         -1.7947843e+00, -1.4733356e+00, -1.4848689e+00],\n",
       "        [-8.4313500e-01, -1.3668314e+00,  8.3132429e+00, ...,\n",
       "         -7.9279292e-01, -7.3091888e-01, -7.8787178e-01],\n",
       "        [-5.1581579e-01, -1.2723457e+00,  6.5886865e+00, ...,\n",
       "         -1.1348866e+00, -1.1956487e+00, -7.8120691e-01]],\n",
       "\n",
       "       [[-8.0120760e-01, -1.8411403e+00,  1.0098243e+01, ...,\n",
       "         -9.1729522e-01, -5.5928189e-01, -1.4584131e+00],\n",
       "        [-1.1278839e+00, -1.3656754e+00,  1.1544807e+01, ...,\n",
       "         -1.0885791e+00, -5.0053293e-01, -1.3330301e+00],\n",
       "        [-1.6096486e+00, -1.3606387e+00,  4.0559278e+00, ...,\n",
       "         -1.2774234e+00, -2.2224052e-01, -1.7543135e+00],\n",
       "        ...,\n",
       "        [-1.0494140e+00, -1.6265025e+00,  4.0175991e+00, ...,\n",
       "         -9.0728486e-01,  2.8573805e-02, -1.9045070e+00],\n",
       "        [-1.0151685e+00, -1.6062552e+00,  3.9816129e+00, ...,\n",
       "         -9.0365911e-01,  1.0659601e-01, -1.9233052e+00],\n",
       "        [-2.9515352e-02, -1.3372120e+00,  2.9209883e+00, ...,\n",
       "          1.3646950e-01,  4.5887265e+00, -1.2337127e+00]],\n",
       "\n",
       "       [[-8.8051188e-01, -2.2038925e+00,  9.2052927e+00, ...,\n",
       "         -9.0615553e-01, -7.9190814e-01, -1.1413178e+00],\n",
       "        [-9.5883179e-01, -5.5053127e-01,  1.4964854e+00, ...,\n",
       "         -1.3328253e+00, -1.4553794e+00,  1.3644383e+00],\n",
       "        [-8.3113515e-01,  9.9355173e-01,  1.5562093e+00, ...,\n",
       "          5.1925998e-02, -6.1279041e-01,  4.7228465e+00],\n",
       "        ...,\n",
       "        [-9.8743337e-01,  3.6668532e-02,  7.5971375e+00, ...,\n",
       "         -1.6907080e-01, -6.1809486e-01,  1.1811869e+00],\n",
       "        [-1.0096422e+00, -9.2682278e-01,  8.5861807e+00, ...,\n",
       "         -6.8409181e-01, -1.1773399e+00, -4.6069279e-01],\n",
       "        [-1.2025574e+00, -1.1408682e+00,  3.6988368e+00, ...,\n",
       "         -2.9241608e-02,  1.6396238e-01, -4.1556898e-01]]], dtype=float32), label_ids=array([[-100,    8, -100, ..., -100, -100, -100],\n",
       "       [-100,    2,    2, ..., -100, -100, -100],\n",
       "       [-100,    8, -100, ..., -100, -100, -100],\n",
       "       ...,\n",
       "       [-100,    2,    2, ..., -100, -100, -100],\n",
       "       [-100,    2,   13, ..., -100, -100, -100],\n",
       "       [-100,   12, -100, ..., -100, -100, -100]]), metrics={'test_loss': 0.14006568491458893, 'test_precision': 0.8621997471554994, 'test_recall': 0.8736122971818958, 'test_f1': 0.8678685047720043, 'test_accuracy': 0.9619408471413222, 'test_runtime': 1.3784, 'test_samples_per_second': 480.995, 'test_steps_per_second': 30.47})"
      ]
     },
     "execution_count": 12,
     "metadata": {},
     "output_type": "execute_result"
    }
   ],
   "source": [
    "predictions = trainer.predict(tokenized_ds[\"test_json\"])\n",
    "predictions"
   ]
  },
  {
   "cell_type": "code",
   "execution_count": 3,
   "id": "bc98e908-db1b-469c-b2d0-f4248624b4b0",
   "metadata": {},
   "outputs": [],
   "source": [
    "predictions = np.argmax(predictions.predictions, axis = -1)"
   ]
  },
  {
   "cell_type": "code",
   "execution_count": 4,
   "id": "deaac7bc-eeb7-4faa-8327-ad8fc4f52197",
   "metadata": {},
   "outputs": [
    {
     "data": {
      "text/plain": [
       "array([[ 2,  8,  8, ...,  2,  2,  2],\n",
       "       [ 2,  2,  2, ...,  8,  1,  2],\n",
       "       [ 2,  8,  1, ...,  2,  2,  2],\n",
       "       ...,\n",
       "       [ 2,  2,  2, ...,  2,  2,  2],\n",
       "       [ 2,  2, 13, ..., 13, 13, 21],\n",
       "       [ 2, 12, 12, ...,  2,  2,  2]])"
      ]
     },
     "execution_count": 4,
     "metadata": {},
     "output_type": "execute_result"
    }
   ],
   "source": [
    "predictions"
   ]
  },
  {
   "cell_type": "code",
   "execution_count": 10,
   "id": "d55e441b-aff1-4239-b859-4f08fe6c501c",
   "metadata": {},
   "outputs": [
    {
     "name": "stdout",
     "output_type": "stream",
     "text": [
      "[ 2  8  8  1  2  2 12  2  2  2 12 22 22 22  2  2  2  2  2  2  2  2  2  2\n",
      " 12  2  2  2  2  2  2  2  2  2  2  2  2  8  2 12  2  2 22 22  2  2  2  2\n",
      "  2  8  8  2  2  2  2  2 22  2 12 22 22  2  2  2  2  2  2  2  2  2  2  2\n",
      "  2  2  2  2  2  2  2  2  2  2  8  2  2  2  2]\n"
     ]
    }
   ],
   "source": [
    "print(predictions[0])"
   ]
  },
  {
   "cell_type": "code",
   "execution_count": 9,
   "id": "b392d0d3-df82-407f-a715-5d4ae20032b0",
   "metadata": {},
   "outputs": [
    {
     "name": "stdout",
     "output_type": "stream",
     "text": [
      "[8, 2, 2, 12, 2, 12, 2, 2, 2, 2, 2, 2, 2, 2, 2, 2, 2, 2, 2, 2, 2, 2, 2, 2, 2, 2, 2, 2, 2]\n"
     ]
    }
   ],
   "source": [
    "print(ds[\"test_json\"][\"ner_tags\"][0])"
   ]
  },
  {
   "cell_type": "code",
   "execution_count": 11,
   "id": "cb5e1df0-dfda-420f-8b24-cbb6d4509c1e",
   "metadata": {},
   "outputs": [
    {
     "data": {
      "text/plain": [
       "87"
      ]
     },
     "execution_count": 11,
     "metadata": {},
     "output_type": "execute_result"
    }
   ],
   "source": [
    "len(predictions[0])"
   ]
  },
  {
   "cell_type": "code",
   "execution_count": 13,
   "id": "8716922d-8ebd-4744-a664-8abe65762d10",
   "metadata": {},
   "outputs": [
    {
     "name": "stdout",
     "output_type": "stream",
     "text": [
      "{'precision': 0.8621997471554994, 'recall': 0.8736122971818958, 'f1': 0.8678685047720043, 'accuracy': 0.9619408471413222}\n"
     ]
    }
   ],
   "source": [
    "#METRICS VALUES ON TETS SET\n",
    "\n",
    "print(compute_metrics(predictions[:][0:2]))"
   ]
  },
  {
   "cell_type": "code",
   "execution_count": null,
   "id": "7d6491b7-faa6-48a1-9cce-e1b6330abf02",
   "metadata": {},
   "outputs": [],
   "source": []
  }
 ],
 "metadata": {
  "kernelspec": {
   "display_name": "Python 3 (ipykernel)",
   "language": "python",
   "name": "python3"
  },
  "language_info": {
   "codemirror_mode": {
    "name": "ipython",
    "version": 3
   },
   "file_extension": ".py",
   "mimetype": "text/x-python",
   "name": "python",
   "nbconvert_exporter": "python",
   "pygments_lexer": "ipython3",
   "version": "3.11.7"
  }
 },
 "nbformat": 4,
 "nbformat_minor": 5
}
